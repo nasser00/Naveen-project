{
 "cells": [
  {
   "cell_type": "markdown",
   "id": "dab1afd4",
   "metadata": {},
   "source": [
    "# gradient descent method with 2 x 2 matrix"
   ]
  },
  {
   "cell_type": "code",
   "execution_count": 38,
   "id": "5cb2e2bd",
   "metadata": {},
   "outputs": [],
   "source": [
    "import numpy as np\n",
    "import matplotlib.pyplot as plt\n",
    "A=np.array([[4,2],[2,6]])\n",
    "b=np.array([[4],[-8]])\n",
    "xo=np.array([[-5],[5]])\n",
    "\n",
    "def decon(A,b,xo):\n",
    "    x1=[]\n",
    "    x2=[]\n",
    "    mat_norm=[]\n",
    "    i=0\n",
    "    while True: \n",
    "        mat_norm.append(np.linalg.norm(b-np.dot(A,xo)))\n",
    "        x1.append(xo[0])\n",
    "        x2.append(xo[1])\n",
    "        r=(b-np.dot(A,xo))\n",
    "        beta=np.dot(r.T,r)/np.dot(r.T,np.dot(A,r))\n",
    "        y=xo\n",
    "        xo=xo+beta*r\n",
    "        xnew=xo\n",
    "        i=i\n",
    "        if np.linalg.norm(xnew-y)<0.00001:\n",
    "            break\n",
    "        else:\n",
    "            i=i+1\n",
    "    plt.figure(1)      \n",
    "    p1=plt.plot(x2,x1 );\n",
    "    plt.figure(2);\n",
    "    p2=plt.plot(mat_norm );\n",
    "    p3=print(xo)    \n",
    "    return(p2,p3,i)"
   ]
  },
  {
   "cell_type": "code",
   "execution_count": 39,
   "id": "0f98472e",
   "metadata": {},
   "outputs": [
    {
     "name": "stdout",
     "output_type": "stream",
     "text": [
      "[[ 1.99999583]\n",
      " [-1.99999583]]\n"
     ]
    },
    {
     "data": {
      "text/plain": [
       "([<matplotlib.lines.Line2D at 0x78197fd55240>], None, 15)"
      ]
     },
     "execution_count": 39,
     "metadata": {},
     "output_type": "execute_result"
    },
    {
     "data": {
      "image/png": "[encoded data removed]",
      "text/plain": [
       "<Figure size 432x288 with 1 Axes>"
      ]
     },
     "metadata": {
      "needs_background": "light"
     },
     "output_type": "display_data"
    },
    {
     "data": {
      "image/png": "[encoded data removed]",
      "text/plain": [
       "<Figure size 432x288 with 1 Axes>"
      ]
     },
     "metadata": {
      "needs_background": "light"
     },
     "output_type": "display_data"
    }
   ],
   "source": [
    "decon(A,b,xo)"
   ]
  },
  {
   "cell_type": "markdown",
   "id": "a25954bc",
   "metadata": {},
   "source": [
    "# making toeplitz matrix and simple deconvolution problem"
   ]
  },
  {
   "cell_type": "code",
   "execution_count": 40,
   "id": "fda94ed6",
   "metadata": {},
   "outputs": [],
   "source": [
    "import numpy as np\n",
    "from scipy.linalg import toeplitz\n",
    "def decon(A,b,xo):\n",
    "    x1=[]\n",
    "    x2=[]\n",
    "    mat_norm=[]\n",
    "    i=0\n",
    "    while True: \n",
    "        mat_norm.append(np.linalg.norm(b-np.dot(A,xo)))\n",
    "        x1.append(xo[0])\n",
    "        x2.append(xo[1])\n",
    "        r=(b-np.dot(A,xo))\n",
    "        beta=np.dot(r.T,r)/np.dot(r.T,np.dot(A,r))\n",
    "        y=xo\n",
    "        xo=xo+beta*r\n",
    "        xnew=xo\n",
    "        i=i\n",
    "        if np.linalg.norm(xnew-y)<0.000001:\n",
    "            break\n",
    "        else:\n",
    "            i=i+1\n",
    "    plt.figure(1)      \n",
    "#     p1=plt.plot(x2,x1 );\n",
    "    ;\n",
    "    p2=plt.plot(mat_norm );\n",
    "    plt.figure(2)\n",
    "    p3=print(np.round(xo))    \n",
    "    return(p2,p3,i)"
   ]
  },
  {
   "cell_type": "code",
   "execution_count": 41,
   "id": "9c223624",
   "metadata": {},
   "outputs": [
    {
     "name": "stdout",
     "output_type": "stream",
     "text": [
      "[[  1.   0.   0.   0.   0.   0.]\n",
      " [-30.   1.   0.   0.   0.   0.]\n",
      " [  5. -30.   1.   0.   0.   0.]\n",
      " [  0.   5. -30.   1.   0.   0.]\n",
      " [  0.   0.   5. -30.   1.   0.]\n",
      " [  0.   0.   0.   5. -30.   1.]\n",
      " [  0.   0.   0.   0.   5. -30.]\n",
      " [  0.   0.   0.   0.   0.   5.]]\n"
     ]
    },
    {
     "data": {
      "text/plain": [
       "(6, 6)"
      ]
     },
     "execution_count": 41,
     "metadata": {},
     "output_type": "execute_result"
    }
   ],
   "source": [
    "a=np.array([1,-30,5])\n",
    "d=np.array([1,-33,95,-15,1,-28,55,10])\n",
    "xo=np.array([0,0,0,0,0,0])\n",
    "xo=xo.reshape(len(xo),1)\n",
    "p=len(d)\n",
    "q=len(a)\n",
    "col=np.hstack((a,np.zeros(p-q)))\n",
    "row=np.hstack((a[0],np.zeros(p-q)))\n",
    "a=toeplitz(col,row)\n",
    "print(a)\n",
    "A=np.dot(a.T,a)\n",
    "np.shape(A)\n"
   ]
  },
  {
   "cell_type": "code",
   "execution_count": 42,
   "id": "c84098d7",
   "metadata": {},
   "outputs": [],
   "source": [
    "# mat_norm=(np.linalg.norm(d-np.dot(A,xo)))\n",
    "# r=(d-np.dot(A,xo))\n",
    "# beta=np.dot(r.T,r)/np.dot(r.T,np.dot(A,r))"
   ]
  },
  {
   "cell_type": "code",
   "execution_count": 43,
   "id": "b8888b43",
   "metadata": {},
   "outputs": [
    {
     "data": {
      "text/plain": [
       "(6, 1)"
      ]
     },
     "execution_count": 43,
     "metadata": {},
     "output_type": "execute_result"
    }
   ],
   "source": [
    "d=d.reshape(len(d),1)\n",
    "d=np.dot(a.T,d)\n",
    "np.shape(d)"
   ]
  },
  {
   "cell_type": "code",
   "execution_count": 44,
   "id": "961c5ad2",
   "metadata": {},
   "outputs": [
    {
     "name": "stdout",
     "output_type": "stream",
     "text": [
      "[[ 1.]\n",
      " [-3.]\n",
      " [ 0.]\n",
      " [-0.]\n",
      " [ 1.]\n",
      " [-2.]]\n"
     ]
    },
    {
     "data": {
      "text/plain": [
       "([<matplotlib.lines.Line2D at 0x78197fdf4340>], None, 14)"
      ]
     },
     "execution_count": 44,
     "metadata": {},
     "output_type": "execute_result"
    },
    {
     "data": {
      "image/png": "[encoded data removed]",
      "text/plain": [
       "<Figure size 432x288 with 1 Axes>"
      ]
     },
     "metadata": {
      "needs_background": "light"
     },
     "output_type": "display_data"
    },
    {
     "data": {
      "text/plain": [
       "<Figure size 432x288 with 0 Axes>"
      ]
     },
     "metadata": {},
     "output_type": "display_data"
    }
   ],
   "source": [
    "decon(A,d,xo)"
   ]
  },
  {
   "cell_type": "markdown",
   "id": "c458d37c",
   "metadata": {},
   "source": [
    "# conjucate gradient method  method with simple 2 x 2 matrix"
   ]
  },
  {
   "cell_type": "code",
   "execution_count": 45,
   "id": "53d1c26e",
   "metadata": {},
   "outputs": [
    {
     "name": "stdout",
     "output_type": "stream",
     "text": [
      "Solution: (array([ 2., -2.]), 2)\n"
     ]
    }
   ],
   "source": [
    "import numpy as np\n",
    "\n",
    "def conjugate_gradient(A, b, x0, tol=0.000001):\n",
    "    x = x0\n",
    "    r = b - np.dot(A, x)\n",
    "    d = r\n",
    "    rs_old = np.dot(r.T, r)\n",
    "    i=1\n",
    "\n",
    "    while True:\n",
    "        Ad = np.dot(A, d)\n",
    "        beta = rs_old / np.dot(d.T, Ad)\n",
    "        x = x + beta * d\n",
    "        r = r - beta * Ad\n",
    "        rs_new = np.dot(r.T, r)\n",
    "        if np.sqrt(rs_new) < tol:\n",
    "            break\n",
    "        d = r + (rs_new / rs_old) * d\n",
    "        rs_old = rs_new\n",
    "        i=i+1\n",
    "    return (np.round(x),i)\n",
    "\n",
    "\n",
    "A = np.array([[4, 2],[2, 6]])\n",
    "b = np.array([4, -8])\n",
    "x0 = np.array([0, 0])\n",
    "\n",
    "solution = conjugate_gradient(A, b, x0)\n",
    "print(\"Solution:\", solution)\n"
   ]
  },
  {
   "cell_type": "code",
   "execution_count": 46,
   "id": "1bd22886",
   "metadata": {},
   "outputs": [
    {
     "name": "stdout",
     "output_type": "stream",
     "text": [
      "[[  1.   0.   0.   0.   0.   0.]\n",
      " [-30.   1.   0.   0.   0.   0.]\n",
      " [  5. -30.   1.   0.   0.   0.]\n",
      " [  0.   5. -30.   1.   0.   0.]\n",
      " [  0.   0.   5. -30.   1.   0.]\n",
      " [  0.   0.   0.   5. -30.   1.]\n",
      " [  0.   0.   0.   0.   5. -30.]\n",
      " [  0.   0.   0.   0.   0.   5.]]\n"
     ]
    },
    {
     "data": {
      "text/plain": [
       "(6, 1)"
      ]
     },
     "execution_count": 46,
     "metadata": {},
     "output_type": "execute_result"
    }
   ],
   "source": [
    "a=np.array([1,-30,5])\n",
    "d=np.array([1,-33,95,-15,1,-28,55,10])\n",
    "x0=np.array([0,0,0,0,0,0])\n",
    "x0=x0.reshape(len(xo),1)\n",
    "p=len(d)\n",
    "q=len(a)\n",
    "col=np.hstack((a,np.zeros(p-q)))\n",
    "row=np.hstack((a[0],np.zeros(p-q)))\n",
    "a=toeplitz(col,row)\n",
    "print(a)\n",
    "A=np.dot(a.T,a)\n",
    "np.shape(A)\n",
    "d=d.reshape(len(d),1)\n",
    "d=np.dot(a.T,d)\n",
    "np.shape(d)\n",
    "\n",
    "np.shape(d)"
   ]
  },
  {
   "cell_type": "code",
   "execution_count": 47,
   "id": "b2f4d755",
   "metadata": {},
   "outputs": [
    {
     "name": "stdout",
     "output_type": "stream",
     "text": [
      "Solution: (array([[ 1.],\n",
      "       [-3.],\n",
      "       [ 0.],\n",
      "       [-0.],\n",
      "       [ 1.],\n",
      "       [-2.]]), 6)\n"
     ]
    }
   ],
   "source": [
    "solution = conjugate_gradient(A, d, x0)\n",
    "print(\"Solution:\", solution)"
   ]
  },
  {
   "cell_type": "code",
   "execution_count": null,
   "id": "70332805",
   "metadata": {},
   "outputs": [],
   "source": []
  },
  {
   "cell_type": "code",
   "execution_count": null,
   "id": "683e4f2a",
   "metadata": {},
   "outputs": [],
   "source": []
  }
 ],
 "metadata": {
  "kernelspec": {
   "display_name": "Python 3 (ipykernel)",
   "language": "python",
   "name": "python3"
  },
  "language_info": {
   "codemirror_mode": {
    "name": "ipython",
    "version": 3
   },
   "file_extension": ".py",
   "mimetype": "text/x-python",
   "name": "python",
   "nbconvert_exporter": "python",
   "pygments_lexer": "ipython3",
   "version": "3.10.12"
  }
 },
 "nbformat": 4,
 "nbformat_minor": 5
}
